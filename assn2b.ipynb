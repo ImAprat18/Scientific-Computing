{
 "cells": [
  {
   "cell_type": "markdown",
   "id": "6ccf274b",
   "metadata": {},
   "source": [
    "# Question 2"
   ]
  },
  {
   "cell_type": "markdown",
   "id": "93f4d920",
   "metadata": {},
   "source": [
    "## The following code take 20 random points in a 100x100 box and connects each point to its nearest three neighbours."
   ]
  },
  {
   "cell_type": "markdown",
   "id": "fcf82f3c",
   "metadata": {},
   "source": [
    "### Libraries used: math, random, matplotlib.pyplot"
   ]
  },
  {
   "cell_type": "code",
   "execution_count": null,
   "id": "cc87c7ae",
   "metadata": {},
   "outputs": [],
   "source": [
    "import math\n",
    "import random\n",
    "%matplotlib inline\n",
    "import matplotlib.pyplot as plt"
   ]
  },
  {
   "cell_type": "markdown",
   "id": "5c4505d6",
   "metadata": {},
   "source": [
    "The following cell generates and plots 20 random points inside the box."
   ]
  },
  {
   "cell_type": "code",
   "execution_count": null,
   "id": "7fbe63e4",
   "metadata": {
    "scrolled": true
   },
   "outputs": [],
   "source": [
    "x= [random.randint(1,100) for n in range(20)]+[100,100,0,0]\n",
    "y= [random.randint(1, 100) for n in range(20)]+[100,0,100,0]\n",
    "plt.scatter(x,y)\n",
    "plt.axvline(x=0, c='black')\n",
    "plt.axvline(x=100, c='black')\n",
    "plt.axhline(y=0, c='black')\n",
    "plt.axhline(y=100, c='black')\n",
    "plt.show()"
   ]
  },
  {
   "cell_type": "markdown",
   "id": "65939541",
   "metadata": {},
   "source": [
    "Note: In the above plot, the corners of the box have been marked only to ensure the entire box is broken into sections when all connections are made."
   ]
  },
  {
   "cell_type": "markdown",
   "id": "5e2e97ff",
   "metadata": {},
   "source": [
    "In the following two cells, the distances of the points from each other are found. Then, the list of distances is sorted and corresponding points are joined."
   ]
  },
  {
   "cell_type": "code",
   "execution_count": null,
   "id": "28cec172",
   "metadata": {},
   "outputs": [],
   "source": [
    "s=[]\n",
    "pt=[]\n",
    "final_dist=[]\n",
    "for i in range(24):\n",
    "    for j in range(24):\n",
    "        distsq= (x[j]-x[i])**2 + (y[j]-y[i])**2\n",
    "        dist= math.sqrt(distsq)\n",
    "        s.append(dist)\n",
    "        pt.append((x[j], y[j]))\n",
    "    dist_arr=[s, pt]\n",
    "    final_dist.append(dist_arr)\n",
    "    s=[]\n",
    "    pt=[]"
   ]
  },
  {
   "cell_type": "code",
   "execution_count": null,
   "id": "4c9bb6ea",
   "metadata": {},
   "outputs": [],
   "source": [
    "for element in final_dist:\n",
    "    sorted_element= sorted(zip(*element))\n",
    "    sorted_element= zip(*sorted_element)\n",
    "    sorted_element= [list(row) for row in sorted_element]\n",
    "    nearpt=sorted_element[1][1:4]\n",
    "    for point in nearpt:\n",
    "        xcoord=[sorted_element[1][0][0], point[0]]\n",
    "        ycoord=[sorted_element[1][0][1], point[1]]\n",
    "        plt.plot(xcoord, ycoord, marker='o')\n",
    "plt.axvline(x=0, c='black')\n",
    "plt.axvline(x=100, c='black')\n",
    "plt.axhline(y=0, c='black')\n",
    "plt.axhline(y=100, c='black')"
   ]
  },
  {
   "cell_type": "markdown",
   "id": "673dc262",
   "metadata": {},
   "source": [
    "Now, distance of each point from the origin is determined and stored in a list. The elements of the list are sorted and these are stored in a text file in the current directory."
   ]
  },
  {
   "cell_type": "code",
   "execution_count": null,
   "id": "9eaa062e",
   "metadata": {},
   "outputs": [],
   "source": [
    "o=[]\n",
    "opt=[]\n",
    "dist_origin=[]\n",
    "for i in range(20):\n",
    "    dist_sqo= (x[i])**2 + (y[i])**2\n",
    "    disto= math.sqrt(dist_sqo)\n",
    "    o.append(disto)\n",
    "    opt.append((x[i], y[i]))\n",
    "    disto_arr=[o, opt]\n",
    "dist_origin.append(disto_arr)"
   ]
  },
  {
   "cell_type": "code",
   "execution_count": null,
   "id": "ac6b9c05",
   "metadata": {},
   "outputs": [],
   "source": [
    "for ele in dist_origin:\n",
    "    sorted_ele= sorted(zip(*ele))\n",
    "    sorted_ele= zip(*sorted_ele)\n",
    "    sorted_ele= [list(row) for row in sorted_ele]\n",
    "print(sorted_ele)"
   ]
  },
  {
   "cell_type": "code",
   "execution_count": null,
   "id": "f480e2eb",
   "metadata": {},
   "outputs": [],
   "source": [
    "list_of_points= sorted_ele[1]\n",
    "file=open(\"assn2b.txt\", \"w\")\n",
    "for item in list_of_points:\n",
    "    file.write(str(item)+'\\n')\n",
    "file.close()"
   ]
  },
  {
   "cell_type": "markdown",
   "id": "593ee188",
   "metadata": {},
   "source": [
    "For convenience, I have displayed the file and its contents below."
   ]
  },
  {
   "cell_type": "code",
   "execution_count": null,
   "id": "65e77ab4",
   "metadata": {},
   "outputs": [],
   "source": [
    "!ls"
   ]
  },
  {
   "cell_type": "code",
   "execution_count": null,
   "id": "c67d5c83",
   "metadata": {},
   "outputs": [],
   "source": [
    "!cat assn2b.txt"
   ]
  }
 ],
 "metadata": {
  "kernelspec": {
   "display_name": "SageMath 9.5",
   "language": "sage",
   "name": "sagemath"
  },
  "language_info": {
   "codemirror_mode": {
    "name": "ipython",
    "version": 3
   },
   "file_extension": ".py",
   "mimetype": "text/x-python",
   "name": "python",
   "nbconvert_exporter": "python",
   "pygments_lexer": "ipython3",
   "version": "3.10.6"
  }
 },
 "nbformat": 4,
 "nbformat_minor": 5
}
