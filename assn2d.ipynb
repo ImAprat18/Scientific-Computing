{
 "cells": [
  {
   "cell_type": "markdown",
   "id": "e1501b4f",
   "metadata": {},
   "source": [
    "# Question 4"
   ]
  },
  {
   "cell_type": "markdown",
   "id": "1d30db30",
   "metadata": {},
   "source": [
    "## This code finds the natural cubic spline interpolation and polynomial interpolation for the given data points."
   ]
  },
  {
   "cell_type": "code",
   "execution_count": null,
   "id": "993548b4",
   "metadata": {},
   "outputs": [],
   "source": [
    "import numpy as np\n",
    "import matplotlib.pyplot as plt\n",
    "import math\n",
    "from scipy.interpolate import CubicSpline"
   ]
  },
  {
   "cell_type": "code",
   "execution_count": null,
   "id": "0282853f",
   "metadata": {
    "scrolled": true
   },
   "outputs": [],
   "source": [
    "data_pts=[(0,2.5),(1,0.5),(2,0.5),(3,2),(4,2),(5,1.5),(9,0)]\n",
    "xval=[]\n",
    "yval=[]\n",
    "for i in range(len(data_pts)):\n",
    "    xval.append(data_pts[i][0])\n",
    "    yval.append(data_pts[i][1])"
   ]
  },
  {
   "cell_type": "code",
   "execution_count": null,
   "id": "0ccd2ab2",
   "metadata": {},
   "outputs": [],
   "source": [
    "cs= CubicSpline(xval, yval)\n",
    "x_interp= np.linspace(min(xval), max(xval), 100)\n",
    "y_interp= cs(x_interp)\n",
    "plt.scatter(xval, yval)\n",
    "plt.plot(x_interp, y_interp)\n",
    "plt.xlabel('X-axis')\n",
    "plt.ylabel('Y-axis')"
   ]
  },
  {
   "cell_type": "code",
   "execution_count": null,
   "id": "277d520d",
   "metadata": {},
   "outputs": [],
   "source": [
    "list=[]\n",
    "comp_lst_x=[]\n",
    "for num in range(len(xval)-1):\n",
    "    for item in x_interp:\n",
    "        if item>=xval[num] and item<=xval[num+1]:\n",
    "            list.append(item)\n",
    "    comp_lst_x.append(list)\n",
    "    list=[]"
   ]
  },
  {
   "cell_type": "code",
   "execution_count": null,
   "id": "8639b29c",
   "metadata": {},
   "outputs": [],
   "source": [
    "solset=[]\n",
    "lst=[]\n",
    "for index in range(len(xval)-1):\n",
    "    var('a','b','c','d','x','y')\n",
    "    expr= a*x^3+b*x^2+c*x+d==y\n",
    "    eqn1= expr.subs(x=comp_lst_x[index][1],y=float(cs(comp_lst_x[index][1])))\n",
    "    eqn2= expr.subs(x=comp_lst_x[index][3],y=float(cs(comp_lst_x[index][3])))\n",
    "    eqn3= expr.subs(x=comp_lst_x[index][5],y=float(cs(comp_lst_x[index][5])))\n",
    "    eqn4= expr.subs(x=comp_lst_x[index][7],y=float(cs(comp_lst_x[index][7])))\n",
    "    sols=solve([eqn1,eqn2,eqn3,eqn4], a,b,c,d)\n",
    "    solset.append(sols)"
   ]
  },
  {
   "cell_type": "code",
   "execution_count": null,
   "id": "d01967d5",
   "metadata": {},
   "outputs": [],
   "source": [
    "coeff=[]\n",
    "poly_lst=[]\n",
    "poly= a*x^3+b*x^2+c*x+d\n",
    "for element in solset:\n",
    "    c_a=element[0][0].rhs()\n",
    "    c_b=element[0][1].rhs()\n",
    "    c_c=element[0][2].rhs()\n",
    "    c_d=element[0][3].rhs()\n",
    "    coeff.append([c_a, c_b, c_c, c_d])\n",
    "for final in coeff:\n",
    "    final_expr=poly.subs(a=final[0],b=final[1],c=final[2],d=final[3])\n",
    "    final_expr.show()\n",
    "    poly_lst.append(final_expr)"
   ]
  },
  {
   "cell_type": "code",
   "execution_count": null,
   "id": "26f64a07",
   "metadata": {},
   "outputs": [],
   "source": [
    "plt1=plot(poly_lst[0], 0, 1)\n",
    "plt2=plot(poly_lst[1], 1, 2)\n",
    "plt3=plot(poly_lst[2], 2, 3)\n",
    "plt4=plot(poly_lst[3], 3, 4)\n",
    "plt5=plot(poly_lst[4], 4, 5)\n",
    "plt6=plot(poly_lst[5], 5, 9)\n",
    "plt7=plt1+plt2+plt3+plt4+plt5+plt6\n",
    "plt7.show()"
   ]
  },
  {
   "cell_type": "code",
   "execution_count": null,
   "id": "d183a65e",
   "metadata": {
    "scrolled": true
   },
   "outputs": [],
   "source": [
    "polyr=PolynomialRing(RR, 'x')\n",
    "poly_interp=polyr.lagrange_polynomial(data_pts)\n",
    "show(poly_interp)\n",
    "plot(poly_interp, 0, 9, color='red')"
   ]
  },
  {
   "cell_type": "markdown",
   "id": "95e6bd7f",
   "metadata": {},
   "source": [
    "Thus, we see that while a polynomial interpolation fits all data points, it is not the same as the cubic spline interpolation. For higher degree polynomials, Lagrange's method is not as accurate."
   ]
  },
  {
   "cell_type": "code",
   "execution_count": null,
   "id": "ce44b553",
   "metadata": {},
   "outputs": [],
   "source": [
    "fig1=plot(poly_interp, 0, 9, color='red')\n",
    "fig2=plt7+fig1\n",
    "fig2.show()"
   ]
  },
  {
   "cell_type": "markdown",
   "id": "ce97160b",
   "metadata": {},
   "source": [
    "Given above is a comparison between the two plots. As we see, the plots vary significantly as we move from x=5 to x=9."
   ]
  }
 ],
 "metadata": {
  "kernelspec": {
   "display_name": "SageMath 9.5",
   "language": "sage",
   "name": "sagemath"
  },
  "language_info": {
   "codemirror_mode": {
    "name": "ipython",
    "version": 3
   },
   "file_extension": ".py",
   "mimetype": "text/x-python",
   "name": "python",
   "nbconvert_exporter": "python",
   "pygments_lexer": "ipython3",
   "version": "3.10.6"
  }
 },
 "nbformat": 4,
 "nbformat_minor": 5
}
