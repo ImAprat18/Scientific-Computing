{
 "cells": [
  {
   "cell_type": "code",
   "execution_count": 1,
   "id": "7791c82b",
   "metadata": {},
   "outputs": [],
   "source": [
    "import numpy as np\n",
    "import matplotlib.pyplot as plt\n",
    "%matplotlib inline\n",
    "import math\n",
    "import random"
   ]
  },
  {
   "cell_type": "code",
   "execution_count": 2,
   "id": "59f253bc",
   "metadata": {},
   "outputs": [],
   "source": [
    "#first define array T using np\n",
    "#fill initial values using loop on indices of the array\n",
    "#plot initial condition\n",
    "#use pseudocode to get values of T\n",
    "#plot contour/surface plot to plot values of T with indices as coordinates"
   ]
  },
  {
   "cell_type": "code",
   "execution_count": 3,
   "id": "c55e2ac6",
   "metadata": {},
   "outputs": [],
   "source": [
    "T=np.zeros([100, 100])\n",
    "x=[]\n",
    "y=[]\n",
    "lst=[]\n",
    "for i in range(100):\n",
    "    for j in range(100):\n",
    "        dist_sq=(i-50)**2 + (j-50)**2\n",
    "        if dist_sq<=625:\n",
    "            T[i,j]=100\n",
    "        else:\n",
    "            T[i,j]=0\n",
    "        y.append(j)\n",
    "    x.append(i)\n",
    "    lst.append([x,y])\n",
    "    x=[]\n",
    "    y=[]"
   ]
  },
  {
   "cell_type": "code",
   "execution_count": 4,
   "id": "264a4743",
   "metadata": {},
   "outputs": [],
   "source": [
    "xval=[]\n",
    "yval=[]\n",
    "new_lst=[]\n",
    "for r in range(100):\n",
    "    for s in range(100):\n",
    "        new_lst.append((r,s))\n",
    "for l in range(10000):\n",
    "    xval.append(new_lst[l][0])\n",
    "    yval.append(new_lst[l][1])"
   ]
  },
  {
   "cell_type": "code",
   "execution_count": 5,
   "id": "1ffd0b2c",
   "metadata": {},
   "outputs": [],
   "source": [
    "x_Arr=np.array(xval).reshape(100,100)\n",
    "y_Arr=np.array(yval).reshape(100,100)"
   ]
  },
  {
   "cell_type": "code",
   "execution_count": 6,
   "id": "545ddb88",
   "metadata": {},
   "outputs": [
    {
     "data": {
      "text/plain": [
       "<matplotlib.contour.QuadContourSet at 0x7facec42c940>"
      ]
     },
     "execution_count": 6,
     "metadata": {},
     "output_type": "execute_result"
    },
    {
     "data": {
      "image/png": "[encoded data removed]",
      "text/plain": [
       "<Figure size 432x288 with 1 Axes>"
      ]
     },
     "metadata": {
      "needs_background": "light"
     },
     "output_type": "display_data"
    }
   ],
   "source": [
    "plt.contourf(x_Arr,y_Arr,T)"
   ]
  },
  {
   "cell_type": "code",
   "execution_count": 7,
   "id": "34205b89",
   "metadata": {},
   "outputs": [
    {
     "name": "stdout",
     "output_type": "stream",
     "text": [
      "46\n"
     ]
    }
   ],
   "source": [
    "ctr=0\n",
    "num=random.randint(10,200)\n",
    "print(num)\n",
    "while ctr<num:\n",
    "    for i in range(1,99):\n",
    "        for j in range(1,99):\n",
    "            T[i,j]= T[i,j]+0.2*(T[i+1,j]+T[i-1,j]+T[i,j+1]+T[i,j-1]-4*T[i,j])\n",
    "    for j in range(100):\n",
    "        T[0,j]=T[1,j]\n",
    "        T[99,j]=T[98,j]\n",
    "    for i in range(100):\n",
    "        T[i,0]=T[i,1]\n",
    "        T[i,99]=T[i,98]\n",
    "    ctr+=1"
   ]
  },
  {
   "cell_type": "code",
   "execution_count": 8,
   "id": "dc11f779",
   "metadata": {},
   "outputs": [
    {
     "data": {
      "text/plain": [
       "<matplotlib.colorbar.Colorbar at 0x7facec374340>"
      ]
     },
     "execution_count": 8,
     "metadata": {},
     "output_type": "execute_result"
    },
    {
     "data": {
      "image/png": "[encoded data removed]",
      "text/plain": [
       "<Figure size 432x288 with 2 Axes>"
      ]
     },
     "metadata": {
      "needs_background": "light"
     },
     "output_type": "display_data"
    }
   ],
   "source": [
    "plt.contourf(x_Arr,y_Arr,T)\n",
    "plt.colorbar()"
   ]
  }
 ],
 "metadata": {
  "kernelspec": {
   "display_name": "Python 3 (ipykernel)",
   "language": "python",
   "name": "python3"
  },
  "language_info": {
   "codemirror_mode": {
    "name": "ipython",
    "version": 3
   },
   "file_extension": ".py",
   "mimetype": "text/x-python",
   "name": "python",
   "nbconvert_exporter": "python",
   "pygments_lexer": "ipython3",
   "version": "3.10.6"
  }
 },
 "nbformat": 4,
 "nbformat_minor": 5
}
