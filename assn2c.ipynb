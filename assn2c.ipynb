{
 "cells": [
  {
   "cell_type": "markdown",
   "id": "a4a17e8c",
   "metadata": {},
   "source": [
    "# Question 3"
   ]
  },
  {
   "cell_type": "markdown",
   "id": "69f4ff1b",
   "metadata": {},
   "source": [
    "## This code plots the Minimum Enclosing Circle for the roots of the given polynomial. "
   ]
  },
  {
   "cell_type": "markdown",
   "id": "6589982f",
   "metadata": {},
   "source": [
    "### LIbraries used: matplotlib.pyplot, itertools, math"
   ]
  },
  {
   "cell_type": "code",
   "execution_count": null,
   "id": "e632a7da",
   "metadata": {},
   "outputs": [],
   "source": [
    "import matplotlib.pyplot as plt\n",
    "import itertools\n",
    "import math"
   ]
  },
  {
   "cell_type": "code",
   "execution_count": null,
   "id": "b96206b7",
   "metadata": {},
   "outputs": [],
   "source": [
    "x=polygen(CC)\n",
    "solset=(x**5 - 13*x**3 - x**2 + 10*x + 170).roots(CC)\n",
    "solset"
   ]
  },
  {
   "cell_type": "code",
   "execution_count": null,
   "id": "cab93771",
   "metadata": {},
   "outputs": [],
   "source": [
    "f(x) = x^5-13*x^3-x^2+10*x+170\n",
    "plot(f(x), -5, 5, color='blue')"
   ]
  },
  {
   "cell_type": "code",
   "execution_count": null,
   "id": "f925e12c",
   "metadata": {},
   "outputs": [],
   "source": [
    "real=[]\n",
    "imag=[]\n",
    "real.append(solset[0][0])\n",
    "imag.append(0)\n",
    "for item in solset[1:]:\n",
    "    rval=str(item[0]).split()[0]\n",
    "    ival=str(item[0]).split()[1]+str(item[0]).split()[2]\n",
    "    val_sans_i=ival.split('*')\n",
    "    real.append(rval)\n",
    "    imag.append(val_sans_i[0])"
   ]
  },
  {
   "cell_type": "code",
   "execution_count": null,
   "id": "a0367836",
   "metadata": {},
   "outputs": [],
   "source": [
    "roots_lst=[]\n",
    "for index in range(len(real)):\n",
    "    realval=float(real[index])\n",
    "    imagval=float(imag[index])\n",
    "    s=(realval, imagval)\n",
    "    roots_lst.append(s)\n",
    "print(roots_lst)"
   ]
  },
  {
   "cell_type": "code",
   "execution_count": null,
   "id": "8059136a",
   "metadata": {},
   "outputs": [],
   "source": [
    "for coord in roots_lst:\n",
    "    xcoord=coord[0]\n",
    "    ycoord=coord[1]\n",
    "    plt.scatter(xcoord, ycoord)\n",
    "plt.xlabel('Real Axis')\n",
    "plt.ylabel('Imaginary Axis')\n",
    "plt.title('Argand Plane')\n",
    "plt.grid()"
   ]
  },
  {
   "cell_type": "code",
   "execution_count": null,
   "id": "64cfd3e4",
   "metadata": {},
   "outputs": [],
   "source": [
    "comb_pts=list(itertools.combinations(roots_lst,3))\n",
    "final_dists=[]\n",
    "rad=[]\n",
    "cent=[]\n",
    "for pt in comb_pts:\n",
    "    slopea=QQ((pt[0][0]-pt[1][0])/(pt[1][1]-pt[0][1]))\n",
    "    slopeb=QQ((pt[1][0]-pt[2][0])/(pt[2][1]-pt[1][1]))\n",
    "    mida=[(pt[0][0]+pt[1][0])/2, (pt[0][1]+pt[1][1])/2]\n",
    "    midb=[(pt[1][0]+pt[2][0])/2, (pt[1][1]+pt[2][1])/2]\n",
    "    var('y','x')\n",
    "    expra = y-mida[1]==slopea*(x-mida[0])\n",
    "    exprb = y-midb[1]==slopeb*(x-midb[0])\n",
    "    solution=solve([expra, exprb], x, y)\n",
    "    circumcent=[solution[0][0].rhs(), solution[0][1].rhs()]\n",
    "    radsq=(circumcent[0]-pt[0][0])**2 + (circumcent[1]-pt[0][1])**2\n",
    "    circumrad=math.sqrt(radsq)\n",
    "    dist_lst=[]\n",
    "    rad.append(circumrad)\n",
    "    cent.append(circumcent)\n",
    "    for rest in roots_lst:\n",
    "        dist_sq=(circumcent[0]-rest[0])**2 + (circumcent[1]-rest[1])**2\n",
    "        dist=math.sqrt(dist_sq)\n",
    "        dist_lst.append(dist)\n",
    "    final_dists.append(dist_lst)\n",
    "check=0\n",
    "rad_lst=[]\n",
    "cent_lst=[]\n",
    "for num in range(len(rad)):\n",
    "    for k in final_dists[num]:\n",
    "        if k>rad[num]:\n",
    "            check=0\n",
    "            break\n",
    "        else:\n",
    "            check=1\n",
    "    if check==1:\n",
    "        rad_lst.append(rad[num])\n",
    "        cent_lst.append(cent[num])\n",
    "req_radius=min(rad_lst)\n",
    "circum_index=rad_lst.index(req_radius)\n",
    "req_centre=cent_lst[circum_index]"
   ]
  },
  {
   "cell_type": "code",
   "execution_count": null,
   "id": "117f46e0",
   "metadata": {},
   "outputs": [],
   "source": [
    "xvals=[]\n",
    "yvals=[]\n",
    "for a in roots_lst:\n",
    "    xvals.append(a[0])\n",
    "    yvals.append(a[1])"
   ]
  },
  {
   "cell_type": "code",
   "execution_count": null,
   "id": "5a9c8303",
   "metadata": {},
   "outputs": [],
   "source": [
    "plt.scatter(xvals, yvals, marker='o')\n",
    "plt.scatter(req_centre[0], req_centre[1])\n",
    "plt.axvline(x=0, c='green')\n",
    "plt.axhline(y=0, c='green')\n",
    "plt.xlabel('Real Axis')\n",
    "plt.ylabel('Imaginary Axis')\n",
    "plt.title('Argand Plane')\n",
    "plt.grid()\n",
    "min_enc_circ=plt.Circle(req_centre, req_radius, fill=False)\n",
    "ax = plt.gca()\n",
    "ax.add_patch(min_enc_circ)\n",
    "ax.set_aspect('equal')\n",
    "ax.set_xlim([-5, 5])\n",
    "ax.set_ylim([-5, 5])\n",
    "plt.show()"
   ]
  }
 ],
 "metadata": {
  "kernelspec": {
   "display_name": "SageMath 9.5",
   "language": "sage",
   "name": "sagemath"
  },
  "language_info": {
   "codemirror_mode": {
    "name": "ipython",
    "version": 3
   },
   "file_extension": ".py",
   "mimetype": "text/x-python",
   "name": "python",
   "nbconvert_exporter": "python",
   "pygments_lexer": "ipython3",
   "version": "3.10.6"
  }
 },
 "nbformat": 4,
 "nbformat_minor": 5
}
